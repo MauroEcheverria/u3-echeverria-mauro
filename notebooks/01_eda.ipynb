{
 "cells": [
  {
   "cell_type": "markdown",
   "metadata": {},
   "source": [
    "### TEP IA\n",
    "\n",
    "Es un lenguaje de programación multipropósito:\n",
    "- Desarrollo Web\n",
    "- **Ciencia de Datos y Aprendizaje de Máquinas**"
   ]
  },
  {
   "cell_type": "code",
   "execution_count": 106,
   "metadata": {
    "executionInfo": {
     "elapsed": 8,
     "status": "ok",
     "timestamp": 1691511780584,
     "user": {
      "displayName": "Victoria Salazar",
      "userId": "15244846171196193981"
     },
     "user_tz": 240
    },
    "id": "YK3z3Yq4iWd6"
   },
   "outputs": [
    {
     "name": "stdout",
     "output_type": "stream",
     "text": [
      "[1, 2, 1, 2]\n",
      "['IA', 'ML', 'IA', 'ML']\n"
     ]
    }
   ],
   "source": [
    "from typing import TypeVar, List\n",
    "T = TypeVar('T')  # Tipo genérico\n",
    "def duplicar_lista(lista: List[T]) -> List[T]:\n",
    "    return lista * 2\n",
    "print(duplicar_lista([1, 2]))      # [1, 2, 1, 2]\n",
    "print(duplicar_lista([\"IA\", \"ML\"]))  # ['IA', 'ML', 'IA', 'ML']"
   ]
  }
 ],
 "metadata": {
  "colab": {
   "collapsed_sections": [
    "sOLiFcaLvdiF"
   ],
   "provenance": [
    {
     "file_id": "19JIEVSHlWfuJ2ttpxDChqT6CS9SmgUOv",
     "timestamp": 1647983883034
    }
   ]
  },
  "kernelspec": {
   "display_name": "Python 3",
   "name": "python3"
  },
  "language_info": {
   "codemirror_mode": {
    "name": "ipython",
    "version": 3
   },
   "file_extension": ".py",
   "mimetype": "text/x-python",
   "name": "python",
   "nbconvert_exporter": "python",
   "pygments_lexer": "ipython3",
   "version": "3.13.7"
  }
 },
 "nbformat": 4,
 "nbformat_minor": 0
}
