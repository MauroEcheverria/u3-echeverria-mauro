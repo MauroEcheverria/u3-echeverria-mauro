{
 "cells": [
  {
   "cell_type": "markdown",
   "metadata": {},
   "source": [
    "### TEP IA\n",
    "\n",
    "**Notebook EDA**\n",
    "\n",
    "# Análisis Exploratorio del Dataset de Iris\n",
    "\n",
    "## Objetivo del Proyecto\n",
    "\n",
    "El objetivo de este análisis es explorar el famoso dataset de sklearn para entender las características de las diferentes especies de flores. Buscaremos identificar patrones en las medidas de los pétalos y sépalos que nos permitan distinguir entre las tres especies: **setosa**, **versicolor** y **virginica**. Realizaremos un resumen estadístico y visualizaciones clave para lograr este entendimiento.\n",
    "\n",
    "## Visualizaciones\n",
    "\n",
    "A continuación, presentamos dos visualizaciones para explorar las relaciones entre las variables y las especies.\n",
    "\n",
    "1.  **Gráfico de dispersión (Scatter Plot):** Muestra la relación entre la longitud y el ancho de los sépalos, coloreados por especie. Esto nos ayudará a ver si hay agrupaciones visuales.\n",
    "2.  **Gráfico de violín (Violin Plot):** Muestra la distribución de la longitud de los pétalos para cada especie, ofreciendo una visión de la densidad y el rango de valores.\n",
    "\n",
    "## Limpieza y Transformación de Datos\n",
    "\n",
    "El dataset de Iris ya está notablemente limpio y no requiere una limpieza exhaustiva. Sin embargo, hemos realizado una transformación clave para facilitar el análisis:\n",
    "\n",
    "-   **Transformación de la columna `target`:** La columna numérica original `target` ha sido transformada a la columna `species`, que contiene los nombres de las especies (`setosa`, `versicolor`, `virginica`). Esto hace que el análisis sea más intuitivo y las visualizaciones más informativas. No se detectaron valores nulos o atípicos significativos que requieran una limpieza adicional.\n",
    "\n",
    "## IMPORTANTE... !!!!\n",
    "\n",
    "Se comentan las lineas de codigo para la generación de gráfico debido a que en los REQUISITOS Y PASOS, usted indica que en el lietral D: NO EMBEBER IMAGENES PESADAS EN EL .ipynb"
   ]
  },
  {
   "cell_type": "code",
   "execution_count": null,
   "metadata": {
    "executionInfo": {
     "elapsed": 8,
     "status": "ok",
     "timestamp": 1691511780584,
     "user": {
      "displayName": "Victoria Salazar",
      "userId": "15244846171196193981"
     },
     "user_tz": 240
    },
    "id": "YK3z3Yq4iWd6"
   },
   "outputs": [],
   "source": [
    "import pandas as pd\n",
    "import seaborn as sns\n",
    "import matplotlib.pyplot as plt\n",
    "from sklearn.datasets import load_iris\n",
    "\n",
    "# Cargar el dataset de Iris\n",
    "iris = load_iris()\n",
    "df = pd.DataFrame(data=iris.data, columns=iris.feature_names)\n",
    "df['species'] = iris.target_names[iris.target]\n",
    "\n",
    "# Resumen estadístico\n",
    "print(\"Resumen estadístico del dataset:\")\n",
    "print(df.describe())\n",
    "\n",
    "# Ver las primeras 5 filas\n",
    "print(\"\\nPrimeras 5 filas del dataset:\")\n",
    "print(df.head())\n",
    "\n",
    "# Visualización 1: Scatter plot\n",
    "#plt.figure(figsize=(10, 6))\n",
    "#sns.scatterplot(x='sepal length (cm)', y='sepal width (cm)', hue='species', data=df)\n",
    "#plt.title('Longitud vs. Ancho del Sépalo por Especie')\n",
    "#plt.xlabel('Longitud del Sépalo (cm)')\n",
    "#plt.ylabel('Ancho del Sépalo (cm)')\n",
    "#plt.show()\n",
    "\n",
    "# Visualización 2: Violin plot\n",
    "#plt.figure(figsize=(10, 6))\n",
    "#sns.violinplot(x='species', y='petal length (cm)', data=df)\n",
    "#plt.title('Distribución de la Longitud del Pétalo por Especie')\n",
    "#plt.xlabel('Especie')\n",
    "#plt.ylabel('Longitud del Pétalo (cm)')\n",
    "#plt.show()\n"
   ]
  }
 ],
 "metadata": {
  "colab": {
   "collapsed_sections": [
    "sOLiFcaLvdiF"
   ],
   "provenance": [
    {
     "file_id": "19JIEVSHlWfuJ2ttpxDChqT6CS9SmgUOv",
     "timestamp": 1647983883034
    }
   ]
  },
  "kernelspec": {
   "display_name": "Python 3",
   "name": "python3"
  },
  "language_info": {
   "codemirror_mode": {
    "name": "ipython",
    "version": 3
   },
   "file_extension": ".py",
   "mimetype": "text/x-python",
   "name": "python",
   "nbconvert_exporter": "python",
   "pygments_lexer": "ipython3",
   "version": "3.13.4"
  }
 },
 "nbformat": 4,
 "nbformat_minor": 0
}
