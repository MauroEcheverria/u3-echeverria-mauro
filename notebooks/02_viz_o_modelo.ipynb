{
 "cells": [
  {
   "cell_type": "markdown",
   "metadata": {},
   "source": [
    "### TEP IA\n",
    "\n",
    "# Construcción de un Modelo de Clasificación Base\n",
    "\n",
    "## Objetivo del Modelo\n",
    "\n",
    "El objetivo de esta sección es utilizar los datos limpios para entrenar un **modelo de machine learning** que pueda predecir la especie de una flor basándose en sus medidas de sépalo y pétalo. Esto nos permitirá validar si las diferencias observadas en el análisis exploratorio son lo suficientemente significativas para una clasificación automática.\n",
    "\n",
    "## Explicación del Modelo y Métricas\n",
    "\n",
    "Se ha elegido un modelo de clasificación **K-Nearest Neighbors (KNN)**, que es un algoritmo simple pero eficaz. Su funcionamiento se basa en la proximidad: predice la especie de una nueva flor en función de las especies de sus **'k' vecinos más cercanos**.\n",
    "\n",
    "Para evaluar el rendimiento del modelo, utilizamos la **precisión (accuracy)** como métrica. La precisión nos indica el porcentaje de predicciones correctas que el modelo realizó en un conjunto de datos que no vio durante el entrenamiento (conjunto de prueba). Una alta precisión sugiere que el modelo ha aprendido con éxito a diferenciar entre las tres especies de flores de Iris.\n",
    "\n",
    "## IMPORTANTE... !!!!\n",
    "\n",
    "Se comentan las lineas de codigo para la generación de gráfico debido a que en los REQUISITOS Y PASOS, usted indica que en el lietral D: NO EMBEBER IMAGENES PESADAS EN EL .ipynb"
   ]
  },
  {
   "cell_type": "code",
   "execution_count": 15,
   "metadata": {
    "executionInfo": {
     "elapsed": 8,
     "status": "ok",
     "timestamp": 1691511780584,
     "user": {
      "displayName": "Victoria Salazar",
      "userId": "15244846171196193981"
     },
     "user_tz": 240
    },
    "id": "YK3z3Yq4iWd6"
   },
   "outputs": [],
   "source": [
    "import pandas as pd\n",
    "import seaborn as sns\n",
    "import matplotlib.pyplot as plt\n",
    "from sklearn.datasets import load_iris\n",
    "\n",
    "# Cargar el dataset de Iris\n",
    "iris = load_iris()\n",
    "df = pd.DataFrame(data=iris.data, columns=iris.feature_names)\n",
    "df['species'] = iris.target_names[iris.target]\n",
    "\n",
    "# Histograma\n",
    "#plt.figure(figsize=(12, 6))\n",
    "#sns.histplot(data=df, x='sepal length (cm)', hue='species', kde=True, palette='viridis')\n",
    "#plt.title('Distribución de la Longitud del Sépalo por Especie')\n",
    "#plt.xlabel('Longitud del Sépalo (cm)')\n",
    "#plt.ylabel('Frecuencia')\n",
    "#plt.show()\n",
    "\n",
    "# Pair Plot\n",
    "#sns.pairplot(df, hue='species', palette='viridis')\n",
    "#plt.suptitle('Relaciones entre Variables por Especie', y=1.02)\n",
    "#plt.show()\n"
   ]
  }
 ],
 "metadata": {
  "colab": {
   "collapsed_sections": [
    "sOLiFcaLvdiF"
   ],
   "provenance": [
    {
     "file_id": "19JIEVSHlWfuJ2ttpxDChqT6CS9SmgUOv",
     "timestamp": 1647983883034
    }
   ]
  },
  "kernelspec": {
   "display_name": "Python 3",
   "name": "python3"
  },
  "language_info": {
   "codemirror_mode": {
    "name": "ipython",
    "version": 3
   },
   "file_extension": ".py",
   "mimetype": "text/x-python",
   "name": "python",
   "nbconvert_exporter": "python",
   "pygments_lexer": "ipython3",
   "version": "3.13.4"
  }
 },
 "nbformat": 4,
 "nbformat_minor": 0
}
